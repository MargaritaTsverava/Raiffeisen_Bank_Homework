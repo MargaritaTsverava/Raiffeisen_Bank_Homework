{
 "cells": [
  {
   "cell_type": "markdown",
   "id": "dd55b2d3",
   "metadata": {},
   "source": [
    "### Условие\n",
    "\n",
    "Даны 2 таблицы. Первая содержит информацию о пополнениях\n",
    "клиентами своих рублёвых или валютных счетов, во второй содержатся курсы\n",
    "некоторых валют на дату.\n",
    "Ответьте на следующие вопросы используя python или SQL (приложите код\n",
    "решения):\n",
    "1) Выведите максимальный размер пополнения в долларах за неделю,\n",
    "начинающуюся 6-го февраля.\n",
    "2) Выведите средний размер пополнений за февраль понедельно, в\n",
    "разбивке по валютам.\n",
    "Результатом должна быть таблица формата «Год-номер недели, валюта,\n",
    "размер пополнения (с округлением до целого числа)».\n",
    "3) Посчитайте долю клиентов, у которых были пополнения в нескольких\n",
    "валютах. Ответ округлите до десятых процента.\n",
    "4) По каждому клиенту вывести дату первого пополнения, валюту, сумму в\n",
    "рублях (используйте вторую таблицу). Ответом выведите общую сумму в\n",
    "рублях по всем клиентам.\n",
    "5) Посчитайте по каждому клиенту среднюю разницу в днях между его\n",
    "пополнениями, выведите медианное значение по всем клиентам."
   ]
  },
  {
   "cell_type": "markdown",
   "id": "21a8b094",
   "metadata": {},
   "source": [
    "### Решение"
   ]
  },
  {
   "cell_type": "markdown",
   "id": "9e5f3719",
   "metadata": {},
   "source": [
    "#### Подготовка данных"
   ]
  },
  {
   "cell_type": "markdown",
   "id": "95516f15",
   "metadata": {},
   "source": [
    "Импортируем необходимые библиотеки."
   ]
  },
  {
   "cell_type": "code",
   "execution_count": 1,
   "id": "5bf12d54",
   "metadata": {},
   "outputs": [],
   "source": [
    "import pandas as pd"
   ]
  },
  {
   "cell_type": "code",
   "execution_count": 2,
   "id": "c07d6610",
   "metadata": {},
   "outputs": [],
   "source": [
    "replenishment_of_accounts = pd.read_csv('replenishment_of_accounts.csv')\n",
    "exchange_rates = pd.read_csv('exchange_rates.csv')"
   ]
  },
  {
   "cell_type": "markdown",
   "id": "eeeafea5",
   "metadata": {},
   "source": [
    "Рассмотрим датасет replenishment_of_accounts. Для обзора данных воспользуемся методами head() и info()."
   ]
  },
  {
   "cell_type": "code",
   "execution_count": 3,
   "id": "ccc9953b",
   "metadata": {},
   "outputs": [
    {
     "data": {
      "text/html": [
       "<div>\n",
       "<style scoped>\n",
       "    .dataframe tbody tr th:only-of-type {\n",
       "        vertical-align: middle;\n",
       "    }\n",
       "\n",
       "    .dataframe tbody tr th {\n",
       "        vertical-align: top;\n",
       "    }\n",
       "\n",
       "    .dataframe thead th {\n",
       "        text-align: right;\n",
       "    }\n",
       "</style>\n",
       "<table border=\"1\" class=\"dataframe\">\n",
       "  <thead>\n",
       "    <tr style=\"text-align: right;\">\n",
       "      <th></th>\n",
       "      <th>operation_id</th>\n",
       "      <th>user_id</th>\n",
       "      <th>volume</th>\n",
       "      <th>currency</th>\n",
       "      <th>operation_date</th>\n",
       "    </tr>\n",
       "  </thead>\n",
       "  <tbody>\n",
       "    <tr>\n",
       "      <th>0</th>\n",
       "      <td>6935122</td>\n",
       "      <td>29282488</td>\n",
       "      <td>25000.0</td>\n",
       "      <td>RUR</td>\n",
       "      <td>2023-02-07 11:17:28</td>\n",
       "    </tr>\n",
       "    <tr>\n",
       "      <th>1</th>\n",
       "      <td>5201349</td>\n",
       "      <td>82189896</td>\n",
       "      <td>600000.0</td>\n",
       "      <td>RUR</td>\n",
       "      <td>2023-02-06 14:39:08</td>\n",
       "    </tr>\n",
       "    <tr>\n",
       "      <th>2</th>\n",
       "      <td>6935148</td>\n",
       "      <td>9959035</td>\n",
       "      <td>51596.0</td>\n",
       "      <td>USD</td>\n",
       "      <td>2023-02-08 16:07:21</td>\n",
       "    </tr>\n",
       "  </tbody>\n",
       "</table>\n",
       "</div>"
      ],
      "text/plain": [
       "   operation_id   user_id    volume currency       operation_date\n",
       "0       6935122  29282488   25000.0      RUR  2023-02-07 11:17:28\n",
       "1       5201349  82189896  600000.0      RUR  2023-02-06 14:39:08\n",
       "2       6935148   9959035   51596.0      USD  2023-02-08 16:07:21"
      ]
     },
     "metadata": {},
     "output_type": "display_data"
    },
    {
     "name": "stdout",
     "output_type": "stream",
     "text": [
      "<class 'pandas.core.frame.DataFrame'>\n",
      "RangeIndex: 26021 entries, 0 to 26020\n",
      "Data columns (total 5 columns):\n",
      " #   Column          Non-Null Count  Dtype  \n",
      "---  ------          --------------  -----  \n",
      " 0   operation_id    26021 non-null  int64  \n",
      " 1   user_id         26021 non-null  int64  \n",
      " 2   volume          26021 non-null  float64\n",
      " 3   currency        26021 non-null  object \n",
      " 4   operation_date  26021 non-null  object \n",
      "dtypes: float64(1), int64(2), object(2)\n",
      "memory usage: 1016.6+ KB\n"
     ]
    }
   ],
   "source": [
    "display(replenishment_of_accounts.head(3))\n",
    "replenishment_of_accounts.info()"
   ]
  },
  {
   "cell_type": "markdown",
   "id": "c7977c0b",
   "metadata": {},
   "source": [
    "Пропущенных значений нет. \n",
    "\n",
    "В колонке operation_date можно изменить тип данных на datetime."
   ]
  },
  {
   "cell_type": "code",
   "execution_count": 4,
   "id": "e79ae908",
   "metadata": {},
   "outputs": [
    {
     "name": "stdout",
     "output_type": "stream",
     "text": [
      "<class 'pandas.core.frame.DataFrame'>\n",
      "RangeIndex: 26021 entries, 0 to 26020\n",
      "Data columns (total 5 columns):\n",
      " #   Column          Non-Null Count  Dtype         \n",
      "---  ------          --------------  -----         \n",
      " 0   operation_id    26021 non-null  int64         \n",
      " 1   user_id         26021 non-null  int64         \n",
      " 2   volume          26021 non-null  float64       \n",
      " 3   currency        26021 non-null  object        \n",
      " 4   operation_date  26021 non-null  datetime64[ns]\n",
      "dtypes: datetime64[ns](1), float64(1), int64(2), object(1)\n",
      "memory usage: 1016.6+ KB\n"
     ]
    }
   ],
   "source": [
    "replenishment_of_accounts['operation_date'] = pd.to_datetime(replenishment_of_accounts['operation_date'], format = '%Y-%m-%d %H:%M:%S')\n",
    "replenishment_of_accounts.info()"
   ]
  },
  {
   "cell_type": "code",
   "execution_count": 5,
   "id": "7a4f465e",
   "metadata": {},
   "outputs": [
    {
     "data": {
      "text/html": [
       "<div>\n",
       "<style scoped>\n",
       "    .dataframe tbody tr th:only-of-type {\n",
       "        vertical-align: middle;\n",
       "    }\n",
       "\n",
       "    .dataframe tbody tr th {\n",
       "        vertical-align: top;\n",
       "    }\n",
       "\n",
       "    .dataframe thead th {\n",
       "        text-align: right;\n",
       "    }\n",
       "</style>\n",
       "<table border=\"1\" class=\"dataframe\">\n",
       "  <thead>\n",
       "    <tr style=\"text-align: right;\">\n",
       "      <th></th>\n",
       "      <th>operation_id</th>\n",
       "      <th>user_id</th>\n",
       "      <th>volume</th>\n",
       "      <th>currency</th>\n",
       "      <th>operation_date</th>\n",
       "    </tr>\n",
       "  </thead>\n",
       "  <tbody>\n",
       "    <tr>\n",
       "      <th>0</th>\n",
       "      <td>6935122</td>\n",
       "      <td>29282488</td>\n",
       "      <td>25000.0</td>\n",
       "      <td>RUR</td>\n",
       "      <td>2023-02-07 11:17:28</td>\n",
       "    </tr>\n",
       "    <tr>\n",
       "      <th>1</th>\n",
       "      <td>5201349</td>\n",
       "      <td>82189896</td>\n",
       "      <td>600000.0</td>\n",
       "      <td>RUR</td>\n",
       "      <td>2023-02-06 14:39:08</td>\n",
       "    </tr>\n",
       "    <tr>\n",
       "      <th>2</th>\n",
       "      <td>6935148</td>\n",
       "      <td>9959035</td>\n",
       "      <td>51596.0</td>\n",
       "      <td>USD</td>\n",
       "      <td>2023-02-08 16:07:21</td>\n",
       "    </tr>\n",
       "    <tr>\n",
       "      <th>3</th>\n",
       "      <td>1733794</td>\n",
       "      <td>30118944</td>\n",
       "      <td>2.5</td>\n",
       "      <td>USD</td>\n",
       "      <td>2023-02-06 15:22:53</td>\n",
       "    </tr>\n",
       "    <tr>\n",
       "      <th>4</th>\n",
       "      <td>3467597</td>\n",
       "      <td>26949080</td>\n",
       "      <td>346.7</td>\n",
       "      <td>RUR</td>\n",
       "      <td>2023-02-09 13:31:38</td>\n",
       "    </tr>\n",
       "  </tbody>\n",
       "</table>\n",
       "</div>"
      ],
      "text/plain": [
       "   operation_id   user_id    volume currency      operation_date\n",
       "0       6935122  29282488   25000.0      RUR 2023-02-07 11:17:28\n",
       "1       5201349  82189896  600000.0      RUR 2023-02-06 14:39:08\n",
       "2       6935148   9959035   51596.0      USD 2023-02-08 16:07:21\n",
       "3       1733794  30118944       2.5      USD 2023-02-06 15:22:53\n",
       "4       3467597  26949080     346.7      RUR 2023-02-09 13:31:38"
      ]
     },
     "execution_count": 5,
     "metadata": {},
     "output_type": "execute_result"
    }
   ],
   "source": [
    "replenishment_of_accounts.head()"
   ]
  },
  {
   "cell_type": "markdown",
   "id": "093cb5cc",
   "metadata": {},
   "source": [
    "Проверим данные на наличие дублей."
   ]
  },
  {
   "cell_type": "code",
   "execution_count": 6,
   "id": "f8dc4b8f",
   "metadata": {},
   "outputs": [
    {
     "data": {
      "text/plain": [
       "0"
      ]
     },
     "execution_count": 6,
     "metadata": {},
     "output_type": "execute_result"
    }
   ],
   "source": [
    "replenishment_of_accounts.duplicated().sum()"
   ]
  },
  {
   "cell_type": "markdown",
   "id": "97eec39b",
   "metadata": {},
   "source": [
    "Рассмотрим датасет exchange_rates. Для обзора данных воспользуемся методами head() и info()."
   ]
  },
  {
   "cell_type": "code",
   "execution_count": 7,
   "id": "051a2426",
   "metadata": {},
   "outputs": [
    {
     "data": {
      "text/html": [
       "<div>\n",
       "<style scoped>\n",
       "    .dataframe tbody tr th:only-of-type {\n",
       "        vertical-align: middle;\n",
       "    }\n",
       "\n",
       "    .dataframe tbody tr th {\n",
       "        vertical-align: top;\n",
       "    }\n",
       "\n",
       "    .dataframe thead th {\n",
       "        text-align: right;\n",
       "    }\n",
       "</style>\n",
       "<table border=\"1\" class=\"dataframe\">\n",
       "  <thead>\n",
       "    <tr style=\"text-align: right;\">\n",
       "      <th></th>\n",
       "      <th>rate_currency</th>\n",
       "      <th>rate_countercurrency</th>\n",
       "      <th>rate_value</th>\n",
       "      <th>rate_date</th>\n",
       "    </tr>\n",
       "  </thead>\n",
       "  <tbody>\n",
       "    <tr>\n",
       "      <th>0</th>\n",
       "      <td>CNY</td>\n",
       "      <td>RUB</td>\n",
       "      <td>10.4217</td>\n",
       "      <td>2023-02-06</td>\n",
       "    </tr>\n",
       "    <tr>\n",
       "      <th>1</th>\n",
       "      <td>EUR</td>\n",
       "      <td>RUB</td>\n",
       "      <td>76.7344</td>\n",
       "      <td>2023-02-06</td>\n",
       "    </tr>\n",
       "    <tr>\n",
       "      <th>2</th>\n",
       "      <td>GEL</td>\n",
       "      <td>RUB</td>\n",
       "      <td>26.5863</td>\n",
       "      <td>2023-02-06</td>\n",
       "    </tr>\n",
       "    <tr>\n",
       "      <th>3</th>\n",
       "      <td>USD</td>\n",
       "      <td>RUB</td>\n",
       "      <td>70.3847</td>\n",
       "      <td>2023-02-06</td>\n",
       "    </tr>\n",
       "    <tr>\n",
       "      <th>4</th>\n",
       "      <td>CNY</td>\n",
       "      <td>RUB</td>\n",
       "      <td>10.3815</td>\n",
       "      <td>2023-02-07</td>\n",
       "    </tr>\n",
       "    <tr>\n",
       "      <th>5</th>\n",
       "      <td>EUR</td>\n",
       "      <td>RUB</td>\n",
       "      <td>76.0347</td>\n",
       "      <td>2023-02-07</td>\n",
       "    </tr>\n",
       "    <tr>\n",
       "      <th>6</th>\n",
       "      <td>GEL</td>\n",
       "      <td>RUB</td>\n",
       "      <td>26.7006</td>\n",
       "      <td>2023-02-07</td>\n",
       "    </tr>\n",
       "    <tr>\n",
       "      <th>7</th>\n",
       "      <td>USD</td>\n",
       "      <td>RUB</td>\n",
       "      <td>70.5991</td>\n",
       "      <td>2023-02-07</td>\n",
       "    </tr>\n",
       "    <tr>\n",
       "      <th>8</th>\n",
       "      <td>CNY</td>\n",
       "      <td>RUB</td>\n",
       "      <td>10.4331</td>\n",
       "      <td>2023-02-08</td>\n",
       "    </tr>\n",
       "    <tr>\n",
       "      <th>9</th>\n",
       "      <td>EUR</td>\n",
       "      <td>RUB</td>\n",
       "      <td>75.9087</td>\n",
       "      <td>2023-02-08</td>\n",
       "    </tr>\n",
       "  </tbody>\n",
       "</table>\n",
       "</div>"
      ],
      "text/plain": [
       "  rate_currency rate_countercurrency  rate_value   rate_date\n",
       "0           CNY                  RUB     10.4217  2023-02-06\n",
       "1           EUR                  RUB     76.7344  2023-02-06\n",
       "2           GEL                  RUB     26.5863  2023-02-06\n",
       "3           USD                  RUB     70.3847  2023-02-06\n",
       "4           CNY                  RUB     10.3815  2023-02-07\n",
       "5           EUR                  RUB     76.0347  2023-02-07\n",
       "6           GEL                  RUB     26.7006  2023-02-07\n",
       "7           USD                  RUB     70.5991  2023-02-07\n",
       "8           CNY                  RUB     10.4331  2023-02-08\n",
       "9           EUR                  RUB     75.9087  2023-02-08"
      ]
     },
     "metadata": {},
     "output_type": "display_data"
    },
    {
     "name": "stdout",
     "output_type": "stream",
     "text": [
      "<class 'pandas.core.frame.DataFrame'>\n",
      "RangeIndex: 28 entries, 0 to 27\n",
      "Data columns (total 4 columns):\n",
      " #   Column                Non-Null Count  Dtype  \n",
      "---  ------                --------------  -----  \n",
      " 0   rate_currency         28 non-null     object \n",
      " 1   rate_countercurrency  28 non-null     object \n",
      " 2   rate_value            28 non-null     float64\n",
      " 3   rate_date             28 non-null     object \n",
      "dtypes: float64(1), object(3)\n",
      "memory usage: 1.0+ KB\n"
     ]
    }
   ],
   "source": [
    "display(exchange_rates.head(10))\n",
    "exchange_rates.info()"
   ]
  },
  {
   "cell_type": "markdown",
   "id": "8e3927c6",
   "metadata": {},
   "source": [
    "Пропущенных значений нет. \n",
    "\n",
    "Изменим тип данных для поля rate_date на datetime."
   ]
  },
  {
   "cell_type": "code",
   "execution_count": 8,
   "id": "1faed0d8",
   "metadata": {},
   "outputs": [
    {
     "name": "stdout",
     "output_type": "stream",
     "text": [
      "<class 'pandas.core.frame.DataFrame'>\n",
      "RangeIndex: 28 entries, 0 to 27\n",
      "Data columns (total 4 columns):\n",
      " #   Column                Non-Null Count  Dtype         \n",
      "---  ------                --------------  -----         \n",
      " 0   rate_currency         28 non-null     object        \n",
      " 1   rate_countercurrency  28 non-null     object        \n",
      " 2   rate_value            28 non-null     float64       \n",
      " 3   rate_date             28 non-null     datetime64[ns]\n",
      "dtypes: datetime64[ns](1), float64(1), object(2)\n",
      "memory usage: 1.0+ KB\n"
     ]
    }
   ],
   "source": [
    "exchange_rates['rate_date'] = pd.to_datetime(exchange_rates['rate_date'], format = '%Y-%m-%d')\n",
    "exchange_rates.info()"
   ]
  },
  {
   "cell_type": "markdown",
   "id": "ad44ecb5",
   "metadata": {},
   "source": [
    "Проверим данные на наличие дублей."
   ]
  },
  {
   "cell_type": "code",
   "execution_count": 9,
   "id": "5546d3c4",
   "metadata": {},
   "outputs": [
    {
     "data": {
      "text/plain": [
       "0"
      ]
     },
     "execution_count": 9,
     "metadata": {},
     "output_type": "execute_result"
    }
   ],
   "source": [
    "exchange_rates.duplicated().sum()"
   ]
  },
  {
   "cell_type": "markdown",
   "id": "d6de3d04",
   "metadata": {},
   "source": [
    "Определим какие валюты встречаются в полях rate_currency и rate_countercurrency"
   ]
  },
  {
   "cell_type": "code",
   "execution_count": 10,
   "id": "74d4373d",
   "metadata": {},
   "outputs": [
    {
     "name": "stdout",
     "output_type": "stream",
     "text": [
      "Поле rate_currency хранит следующие валюты: ['CNY' 'EUR' 'GEL' 'USD']\n",
      "Поле rate_countercurrency хранит следующие валюты: ['RUB']\n"
     ]
    }
   ],
   "source": [
    "print('Поле rate_currency хранит следующие валюты:', exchange_rates['rate_currency'].unique())\n",
    "print('Поле rate_countercurrency хранит следующие валюты:', exchange_rates['rate_countercurrency'].unique())"
   ]
  },
  {
   "cell_type": "markdown",
   "id": "158f9b9e",
   "metadata": {},
   "source": [
    "Вывод: \n",
    "Данные были проверены на наличие пропусков и дубликатов, были изменены типы данных там, где это было необходимо. Выявили, что в таблице учитывается перевод только из иностранной валюты в рубли. "
   ]
  },
  {
   "cell_type": "markdown",
   "id": "98d44f0b",
   "metadata": {},
   "source": [
    "#### 1. Выведите максимальный размер пополнения в долларах за неделю, начинающуюся 6-го февраля."
   ]
  },
  {
   "cell_type": "markdown",
   "id": "9b5550d7",
   "metadata": {},
   "source": [
    "Импортируем библиотеку для использования SQL."
   ]
  },
  {
   "cell_type": "code",
   "execution_count": 11,
   "id": "0f323444",
   "metadata": {},
   "outputs": [],
   "source": [
    "from pandasql import sqldf"
   ]
  },
  {
   "cell_type": "markdown",
   "id": "37008158",
   "metadata": {},
   "source": [
    "Пишем запрос."
   ]
  },
  {
   "cell_type": "code",
   "execution_count": 12,
   "id": "abe381ab",
   "metadata": {},
   "outputs": [
    {
     "data": {
      "text/html": [
       "<div>\n",
       "<style scoped>\n",
       "    .dataframe tbody tr th:only-of-type {\n",
       "        vertical-align: middle;\n",
       "    }\n",
       "\n",
       "    .dataframe tbody tr th {\n",
       "        vertical-align: top;\n",
       "    }\n",
       "\n",
       "    .dataframe thead th {\n",
       "        text-align: right;\n",
       "    }\n",
       "</style>\n",
       "<table border=\"1\" class=\"dataframe\">\n",
       "  <thead>\n",
       "    <tr style=\"text-align: right;\">\n",
       "      <th></th>\n",
       "      <th>max_usd_replenishment</th>\n",
       "    </tr>\n",
       "  </thead>\n",
       "  <tbody>\n",
       "    <tr>\n",
       "      <th>0</th>\n",
       "      <td>2648648.0</td>\n",
       "    </tr>\n",
       "  </tbody>\n",
       "</table>\n",
       "</div>"
      ],
      "text/plain": [
       "   max_usd_replenishment\n",
       "0              2648648.0"
      ]
     },
     "execution_count": 12,
     "metadata": {},
     "output_type": "execute_result"
    }
   ],
   "source": [
    "query = \"\"\"\n",
    "select max(volume) as max_usd_replenishment\n",
    "  from replenishment_of_accounts\n",
    " where date(operation_date) between '2023-02-06' and '2023-02-12'\n",
    "   and currency = 'USD'\n",
    "\"\"\"\n",
    "\n",
    "result = sqldf(query, locals())\n",
    "\n",
    "result.head(10)"
   ]
  },
  {
   "cell_type": "markdown",
   "id": "6381f149",
   "metadata": {},
   "source": [
    "#### 2. Выведите средний размер пополнений за февраль понедельно, в разбивке по валютам. Результатом должна быть таблица формата «Год-номер недели, валюта, размер пополнения (с округлением до целого числа)»."
   ]
  },
  {
   "cell_type": "code",
   "execution_count": 13,
   "id": "be7d7668",
   "metadata": {},
   "outputs": [
    {
     "data": {
      "text/html": [
       "<div>\n",
       "<style scoped>\n",
       "    .dataframe tbody tr th:only-of-type {\n",
       "        vertical-align: middle;\n",
       "    }\n",
       "\n",
       "    .dataframe tbody tr th {\n",
       "        vertical-align: top;\n",
       "    }\n",
       "\n",
       "    .dataframe thead th {\n",
       "        text-align: right;\n",
       "    }\n",
       "</style>\n",
       "<table border=\"1\" class=\"dataframe\">\n",
       "  <thead>\n",
       "    <tr style=\"text-align: right;\">\n",
       "      <th></th>\n",
       "      <th>year</th>\n",
       "      <th>week_number</th>\n",
       "      <th>currency</th>\n",
       "      <th>avg_replenishment</th>\n",
       "    </tr>\n",
       "  </thead>\n",
       "  <tbody>\n",
       "    <tr>\n",
       "      <th>0</th>\n",
       "      <td>2023</td>\n",
       "      <td>06</td>\n",
       "      <td>CNY</td>\n",
       "      <td>3.490972e+04</td>\n",
       "    </tr>\n",
       "    <tr>\n",
       "      <th>1</th>\n",
       "      <td>2023</td>\n",
       "      <td>06</td>\n",
       "      <td>EUR</td>\n",
       "      <td>7.611467e+03</td>\n",
       "    </tr>\n",
       "    <tr>\n",
       "      <th>2</th>\n",
       "      <td>2023</td>\n",
       "      <td>06</td>\n",
       "      <td>RUR</td>\n",
       "      <td>1.517762e+06</td>\n",
       "    </tr>\n",
       "    <tr>\n",
       "      <th>3</th>\n",
       "      <td>2023</td>\n",
       "      <td>06</td>\n",
       "      <td>USD</td>\n",
       "      <td>4.710190e+03</td>\n",
       "    </tr>\n",
       "  </tbody>\n",
       "</table>\n",
       "</div>"
      ],
      "text/plain": [
       "   year week_number currency  avg_replenishment\n",
       "0  2023          06      CNY       3.490972e+04\n",
       "1  2023          06      EUR       7.611467e+03\n",
       "2  2023          06      RUR       1.517762e+06\n",
       "3  2023          06      USD       4.710190e+03"
      ]
     },
     "execution_count": 13,
     "metadata": {},
     "output_type": "execute_result"
    }
   ],
   "source": [
    "query = \"\"\"\n",
    "select strftime('%Y',operation_date) as year\n",
    "     , strftime('%W',operation_date) as week_number\n",
    "     , currency\n",
    "     , avg(volume) as avg_replenishment\n",
    "  from replenishment_of_accounts\n",
    " where date(operation_date) between '2023-02-01' and '2023-02-28'\n",
    "group by 1,2,3\n",
    "order by week_number, currency\n",
    "\"\"\"\n",
    "\n",
    "result = sqldf(query, locals())\n",
    "\n",
    "result.head(10)"
   ]
  },
  {
   "cell_type": "markdown",
   "id": "40ef687b",
   "metadata": {},
   "source": [
    "#### 3. Посчитайте долю клиентов, у которых были пополнения в нескольких валютах. Ответ округлите до десятых процента."
   ]
  },
  {
   "cell_type": "code",
   "execution_count": 14,
   "id": "40001b4d",
   "metadata": {},
   "outputs": [
    {
     "data": {
      "text/html": [
       "<div>\n",
       "<style scoped>\n",
       "    .dataframe tbody tr th:only-of-type {\n",
       "        vertical-align: middle;\n",
       "    }\n",
       "\n",
       "    .dataframe tbody tr th {\n",
       "        vertical-align: top;\n",
       "    }\n",
       "\n",
       "    .dataframe thead th {\n",
       "        text-align: right;\n",
       "    }\n",
       "</style>\n",
       "<table border=\"1\" class=\"dataframe\">\n",
       "  <thead>\n",
       "    <tr style=\"text-align: right;\">\n",
       "      <th></th>\n",
       "      <th>round(CAST(sum(case when diff_cur_cnt &gt; 1 then 1 else 0 end) as real) / count(*), 3)</th>\n",
       "    </tr>\n",
       "  </thead>\n",
       "  <tbody>\n",
       "    <tr>\n",
       "      <th>0</th>\n",
       "      <td>0.003</td>\n",
       "    </tr>\n",
       "  </tbody>\n",
       "</table>\n",
       "</div>"
      ],
      "text/plain": [
       "   round(CAST(sum(case when diff_cur_cnt > 1 then 1 else 0 end) as real) / count(*), 3)\n",
       "0                                              0.003                                   "
      ]
     },
     "execution_count": 14,
     "metadata": {},
     "output_type": "execute_result"
    }
   ],
   "source": [
    "query = \"\"\"\n",
    "\n",
    "with usr as\n",
    "(\n",
    "select user_id\n",
    "     , count(distinct currency) as diff_cur_cnt\n",
    "  from replenishment_of_accounts\n",
    "group by 1\n",
    ")\n",
    "select round(CAST(sum(case when diff_cur_cnt > 1 then 1 else 0 end) as real) / count(*), 3)\n",
    "  from usr\n",
    ";\n",
    "\"\"\"\n",
    "\n",
    "result = sqldf(query, locals())\n",
    "\n",
    "result.head(10)"
   ]
  },
  {
   "cell_type": "markdown",
   "id": "6f6109fe",
   "metadata": {},
   "source": [
    "#### 4. По каждому клиенту вывести дату первого пополнения, валюту, сумму в рублях (используйте вторую таблицу). Ответом выведите общую сумму в рублях по всем клиентам."
   ]
  },
  {
   "cell_type": "markdown",
   "id": "600bd967",
   "metadata": {},
   "source": [
    "Выведем данные по каждому клиенту."
   ]
  },
  {
   "cell_type": "code",
   "execution_count": 15,
   "id": "d80b30f5",
   "metadata": {},
   "outputs": [
    {
     "data": {
      "text/html": [
       "<div>\n",
       "<style scoped>\n",
       "    .dataframe tbody tr th:only-of-type {\n",
       "        vertical-align: middle;\n",
       "    }\n",
       "\n",
       "    .dataframe tbody tr th {\n",
       "        vertical-align: top;\n",
       "    }\n",
       "\n",
       "    .dataframe thead th {\n",
       "        text-align: right;\n",
       "    }\n",
       "</style>\n",
       "<table border=\"1\" class=\"dataframe\">\n",
       "  <thead>\n",
       "    <tr style=\"text-align: right;\">\n",
       "      <th></th>\n",
       "      <th>user_id</th>\n",
       "      <th>volume_rub</th>\n",
       "      <th>operation_date</th>\n",
       "      <th>currency</th>\n",
       "    </tr>\n",
       "  </thead>\n",
       "  <tbody>\n",
       "    <tr>\n",
       "      <th>0</th>\n",
       "      <td>1403</td>\n",
       "      <td>296666.7</td>\n",
       "      <td>2023-02-07 17:46:13.000000</td>\n",
       "      <td>RUR</td>\n",
       "    </tr>\n",
       "    <tr>\n",
       "      <th>1</th>\n",
       "      <td>3311</td>\n",
       "      <td>195000.0</td>\n",
       "      <td>2023-02-08 11:44:09.000000</td>\n",
       "      <td>RUR</td>\n",
       "    </tr>\n",
       "    <tr>\n",
       "      <th>2</th>\n",
       "      <td>3594</td>\n",
       "      <td>2000000.0</td>\n",
       "      <td>2023-02-09 12:30:52.000000</td>\n",
       "      <td>RUR</td>\n",
       "    </tr>\n",
       "    <tr>\n",
       "      <th>3</th>\n",
       "      <td>3816</td>\n",
       "      <td>17140.0</td>\n",
       "      <td>2023-02-06 21:32:23.000000</td>\n",
       "      <td>CNY</td>\n",
       "    </tr>\n",
       "    <tr>\n",
       "      <th>4</th>\n",
       "      <td>3893</td>\n",
       "      <td>1500000.0</td>\n",
       "      <td>2023-02-07 12:00:34.000000</td>\n",
       "      <td>RUR</td>\n",
       "    </tr>\n",
       "    <tr>\n",
       "      <th>5</th>\n",
       "      <td>4963</td>\n",
       "      <td>500000.0</td>\n",
       "      <td>2023-02-10 17:55:08.000000</td>\n",
       "      <td>RUR</td>\n",
       "    </tr>\n",
       "    <tr>\n",
       "      <th>6</th>\n",
       "      <td>5643</td>\n",
       "      <td>7860.9</td>\n",
       "      <td>2023-02-08 17:34:13.000000</td>\n",
       "      <td>EUR</td>\n",
       "    </tr>\n",
       "    <tr>\n",
       "      <th>7</th>\n",
       "      <td>6622</td>\n",
       "      <td>1250000.0</td>\n",
       "      <td>2023-02-10 15:40:41.000000</td>\n",
       "      <td>RUR</td>\n",
       "    </tr>\n",
       "    <tr>\n",
       "      <th>8</th>\n",
       "      <td>6827</td>\n",
       "      <td>666.7</td>\n",
       "      <td>2023-02-06 15:31:13.000000</td>\n",
       "      <td>USD</td>\n",
       "    </tr>\n",
       "    <tr>\n",
       "      <th>9</th>\n",
       "      <td>7008</td>\n",
       "      <td>555559.5</td>\n",
       "      <td>2023-02-08 11:43:29.000000</td>\n",
       "      <td>RUR</td>\n",
       "    </tr>\n",
       "  </tbody>\n",
       "</table>\n",
       "</div>"
      ],
      "text/plain": [
       "   user_id  volume_rub              operation_date currency\n",
       "0     1403    296666.7  2023-02-07 17:46:13.000000      RUR\n",
       "1     3311    195000.0  2023-02-08 11:44:09.000000      RUR\n",
       "2     3594   2000000.0  2023-02-09 12:30:52.000000      RUR\n",
       "3     3816     17140.0  2023-02-06 21:32:23.000000      CNY\n",
       "4     3893   1500000.0  2023-02-07 12:00:34.000000      RUR\n",
       "5     4963    500000.0  2023-02-10 17:55:08.000000      RUR\n",
       "6     5643      7860.9  2023-02-08 17:34:13.000000      EUR\n",
       "7     6622   1250000.0  2023-02-10 15:40:41.000000      RUR\n",
       "8     6827       666.7  2023-02-06 15:31:13.000000      USD\n",
       "9     7008    555559.5  2023-02-08 11:43:29.000000      RUR"
      ]
     },
     "execution_count": 15,
     "metadata": {},
     "output_type": "execute_result"
    }
   ],
   "source": [
    "query = \"\"\"\n",
    "with rep as\n",
    "(\n",
    "select user_id\n",
    "     , roa.volume * coalesce(er.rate_value, 1) as volume_rub\n",
    "     , operation_date\n",
    "     , currency\n",
    "     , row_number() over (partition by user_id order by operation_date) rn -- находим по каждому пополнению клиента его порядковый номер\n",
    "  from replenishment_of_accounts roa\n",
    "left join exchange_rates er\n",
    "    on roa.currency = er.rate_currency\n",
    "   and roa.operation_date = er.rate_date\n",
    ")\n",
    "select user_id\n",
    "     , volume_rub\n",
    "     , operation_date\n",
    "     , currency\n",
    "  from rep\n",
    " where rn = 1\n",
    "\"\"\"\n",
    "\n",
    "result = sqldf(query, locals())\n",
    "\n",
    "result.head(10)"
   ]
  },
  {
   "cell_type": "markdown",
   "id": "108b89a0",
   "metadata": {},
   "source": [
    "Выведем общую сумму первых пополнений в рублях по всем клиентам."
   ]
  },
  {
   "cell_type": "code",
   "execution_count": 16,
   "id": "5cf53054",
   "metadata": {},
   "outputs": [
    {
     "data": {
      "text/html": [
       "<div>\n",
       "<style scoped>\n",
       "    .dataframe tbody tr th:only-of-type {\n",
       "        vertical-align: middle;\n",
       "    }\n",
       "\n",
       "    .dataframe tbody tr th {\n",
       "        vertical-align: top;\n",
       "    }\n",
       "\n",
       "    .dataframe thead th {\n",
       "        text-align: right;\n",
       "    }\n",
       "</style>\n",
       "<table border=\"1\" class=\"dataframe\">\n",
       "  <thead>\n",
       "    <tr style=\"text-align: right;\">\n",
       "      <th></th>\n",
       "      <th>total_first_replenishment_rub</th>\n",
       "    </tr>\n",
       "  </thead>\n",
       "  <tbody>\n",
       "    <tr>\n",
       "      <th>0</th>\n",
       "      <td>2.230073e+10</td>\n",
       "    </tr>\n",
       "  </tbody>\n",
       "</table>\n",
       "</div>"
      ],
      "text/plain": [
       "   total_first_replenishment_rub\n",
       "0                   2.230073e+10"
      ]
     },
     "execution_count": 16,
     "metadata": {},
     "output_type": "execute_result"
    }
   ],
   "source": [
    "query = \"\"\"\n",
    "with rep as\n",
    "(\n",
    "select user_id\n",
    "     , roa.volume * coalesce(er.rate_value, 1) as volume_rub --в таблице курсов рублей нет, меняем null на 1 для рубля\n",
    "     , operation_date\n",
    "     , currency\n",
    "     , row_number() over (partition by user_id order by operation_date) rn\n",
    "  from replenishment_of_accounts roa\n",
    "left join exchange_rates er\n",
    "    on roa.currency = er.rate_currency\n",
    "   and roa.operation_date = er.rate_date\n",
    ")\n",
    "select sum(volume_rub) as total_first_replenishment_rub\n",
    "  from rep\n",
    " where rn = 1\n",
    "\"\"\"\n",
    "\n",
    "result = sqldf(query, locals())\n",
    "\n",
    "result.head(10)"
   ]
  },
  {
   "cell_type": "markdown",
   "id": "b836bb27",
   "metadata": {},
   "source": [
    "#### 5. Посчитайте по каждому клиенту среднюю разницу в днях между его пополнениями, выведите медианное значение по всем клиентам."
   ]
  },
  {
   "cell_type": "code",
   "execution_count": 17,
   "id": "5ce767c1",
   "metadata": {},
   "outputs": [
    {
     "data": {
      "text/html": [
       "<div>\n",
       "<style scoped>\n",
       "    .dataframe tbody tr th:only-of-type {\n",
       "        vertical-align: middle;\n",
       "    }\n",
       "\n",
       "    .dataframe tbody tr th {\n",
       "        vertical-align: top;\n",
       "    }\n",
       "\n",
       "    .dataframe thead th {\n",
       "        text-align: right;\n",
       "    }\n",
       "</style>\n",
       "<table border=\"1\" class=\"dataframe\">\n",
       "  <thead>\n",
       "    <tr style=\"text-align: right;\">\n",
       "      <th></th>\n",
       "      <th>median_rep_day</th>\n",
       "    </tr>\n",
       "  </thead>\n",
       "  <tbody>\n",
       "    <tr>\n",
       "      <th>0</th>\n",
       "      <td>1.0</td>\n",
       "    </tr>\n",
       "  </tbody>\n",
       "</table>\n",
       "</div>"
      ],
      "text/plain": [
       "   median_rep_day\n",
       "0             1.0"
      ]
     },
     "execution_count": 17,
     "metadata": {},
     "output_type": "execute_result"
    }
   ],
   "source": [
    "query = \"\"\"\n",
    "with rep_dates as --найдем для каждого пополнения дату предыдущего пополнения этого пользователя\n",
    "(\n",
    "select user_id\n",
    "     , date(operation_date) as operation_date\n",
    "     , date(lag(operation_date) over (partition by user_id order by operation_date)) as prev_operation_date\n",
    "  from replenishment_of_accounts roa\n",
    ")\n",
    ", rep_diff as --рассчитаем разницу в днях между соседними пополнениями\n",
    "(\n",
    "select user_id\n",
    "     , julianday(operation_date) - julianday(prev_operation_date) as date_diff\n",
    "  from rep_dates\n",
    " where prev_operation_date is not null --исключаем самое первое пополнение\n",
    ")\n",
    ", avg_diff as --средняя разница в днях между пополнениями каждого пользователя\n",
    "(\n",
    "select user_id\n",
    "     , avg(date_diff) as avg_rep_day_by_user\n",
    "  from rep_diff\n",
    "group by 1\n",
    ")\n",
    "SELECT avg_rep_day_by_user as median_rep_day --функции медианы в sqlite нет, пришлось найти альтернативу в интернете\n",
    "FROM avg_diff\n",
    "ORDER BY 1\n",
    "LIMIT 1\n",
    "OFFSET (SELECT COUNT(*)\n",
    "        FROM avg_diff) / 2\n",
    "\"\"\"\n",
    "\n",
    "result = sqldf(query, locals())\n",
    "\n",
    "result.head(10)"
   ]
  }
 ],
 "metadata": {
  "kernelspec": {
   "display_name": "Python 3 (ipykernel)",
   "language": "python",
   "name": "python3"
  },
  "language_info": {
   "codemirror_mode": {
    "name": "ipython",
    "version": 3
   },
   "file_extension": ".py",
   "mimetype": "text/x-python",
   "name": "python",
   "nbconvert_exporter": "python",
   "pygments_lexer": "ipython3",
   "version": "3.9.12"
  }
 },
 "nbformat": 4,
 "nbformat_minor": 5
}
